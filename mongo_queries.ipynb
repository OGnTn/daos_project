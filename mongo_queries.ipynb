{
 "cells": [
  {
   "cell_type": "markdown",
   "metadata": {},
   "source": [
    "# Mongo Queries"
   ]
  },
  {
   "cell_type": "code",
   "execution_count": 1,
   "metadata": {},
   "outputs": [],
   "source": [
    "import pymongo\n",
    "\n",
    "mongoclient = pymongo.MongoClient(\"mongodb://localhost:27017/\")\n",
    "dblp = mongoclient[\"testdb\"]\n",
    "articles_collection = dblp[\"articles\"]\n",
    "proceeding_collection = dblp[\"proceedings\"]\n",
    "inproceeding_collection = dblp[\"inproceedings\"]"
   ]
  },
  {
   "cell_type": "markdown",
   "metadata": {},
   "source": [
    "#### E1: Who is the publisher of the PODS conference proceedings?"
   ]
  },
  {
   "cell_type": "code",
   "execution_count": 2,
   "metadata": {},
   "outputs": [
    {
     "ename": "IndexError",
     "evalue": "no such item for Cursor instance",
     "output_type": "error",
     "traceback": [
      "\u001b[1;31m---------------------------------------------------------------------------\u001b[0m",
      "\u001b[1;31mIndexError\u001b[0m                                Traceback (most recent call last)",
      "Cell \u001b[1;32mIn[2], line 4\u001b[0m\n\u001b[0;32m      1\u001b[0m \u001b[39m#Query E1\u001b[39;00m\n\u001b[0;32m      2\u001b[0m doc \u001b[39m=\u001b[39m proceeding_collection\u001b[39m.\u001b[39mfind({\u001b[39m\"\u001b[39m\u001b[39mbooktitle\u001b[39m\u001b[39m\"\u001b[39m: \u001b[39m\"\u001b[39m\u001b[39mPODS\u001b[39m\u001b[39m\"\u001b[39m}, {\u001b[39m\"\u001b[39m\u001b[39mpublisher\u001b[39m\u001b[39m\"\u001b[39m : \u001b[39m1\u001b[39m})\n\u001b[1;32m----> 4\u001b[0m \u001b[39mprint\u001b[39m(doc[\u001b[39m0\u001b[39;49m]\u001b[39m.\u001b[39mget(\u001b[39m'\u001b[39m\u001b[39mpublisher\u001b[39m\u001b[39m'\u001b[39m))\n",
      "File \u001b[1;32mc:\\Users\\nicol\\anaconda3\\envs\\DIM\\lib\\site-packages\\pymongo\\cursor.py:694\u001b[0m, in \u001b[0;36mCursor.__getitem__\u001b[1;34m(self, index)\u001b[0m\n\u001b[0;32m    692\u001b[0m     \u001b[39mfor\u001b[39;00m doc \u001b[39min\u001b[39;00m clone:\n\u001b[0;32m    693\u001b[0m         \u001b[39mreturn\u001b[39;00m doc\n\u001b[1;32m--> 694\u001b[0m     \u001b[39mraise\u001b[39;00m \u001b[39mIndexError\u001b[39;00m(\u001b[39m\"\u001b[39m\u001b[39mno such item for Cursor instance\u001b[39m\u001b[39m\"\u001b[39m)\n\u001b[0;32m    695\u001b[0m \u001b[39mraise\u001b[39;00m \u001b[39mTypeError\u001b[39;00m(\u001b[39m\"\u001b[39m\u001b[39mindex \u001b[39m\u001b[39m%r\u001b[39;00m\u001b[39m cannot be applied to Cursor \u001b[39m\u001b[39m\"\u001b[39m\n\u001b[0;32m    696\u001b[0m                 \u001b[39m\"\u001b[39m\u001b[39minstances\u001b[39m\u001b[39m\"\u001b[39m \u001b[39m%\u001b[39m index)\n",
      "\u001b[1;31mIndexError\u001b[0m: no such item for Cursor instance"
     ]
    }
   ],
   "source": [
    "#Test comment (Nico)\n",
    "\n",
    "#Query E1\n",
    "doc = proceeding_collection.find({\"booktitle\": \"PODS\"}, {\"publisher\" : 1})\n",
    "\n",
    "print(doc[0].get('publisher'))"
   ]
  },
  {
   "cell_type": "markdown",
   "metadata": {},
   "source": [
    "#### E2: What are the titles of the articles that Martin Grohe wrote in the Theory of Computing Systems journal? (Sort in alphabetic order)\n"
   ]
  },
  {
   "cell_type": "code",
   "execution_count": 3,
   "metadata": {},
   "outputs": [],
   "source": [
    "docs = articles_collection.find({\"author\" : \"Martin Grohe\", \"journal\": {\"$regex\" : \"^Theor\"}}, {\"title\" : 1}).sort(\"title\")\n",
    "for doc in docs:\n",
    "    print(doc.get('title'))\n"
   ]
  }
 ],
 "metadata": {
  "kernelspec": {
   "display_name": "Python 3.8.15 ('DIM')",
   "language": "python",
   "name": "python3"
  },
  "language_info": {
   "codemirror_mode": {
    "name": "ipython",
    "version": 3
   },
   "file_extension": ".py",
   "mimetype": "text/x-python",
   "name": "python",
   "nbconvert_exporter": "python",
   "pygments_lexer": "ipython3",
   "version": "3.8.15"
  },
  "orig_nbformat": 4,
  "vscode": {
   "interpreter": {
    "hash": "892d817513e34bd072b379b971d1afee876a6c812e8a66b0c3f6dc83d9d5c377"
   }
  }
 },
 "nbformat": 4,
 "nbformat_minor": 2
}
