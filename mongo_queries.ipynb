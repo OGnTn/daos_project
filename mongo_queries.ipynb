{
 "cells": [
  {
   "cell_type": "markdown",
   "metadata": {},
   "source": [
    "# Mongo Queries"
   ]
  },
  {
   "cell_type": "code",
   "execution_count": 2,
   "metadata": {},
   "outputs": [],
   "source": [
    "import pymongo\n",
    "\n",
    "mongoclient = pymongo.MongoClient(\"mongodb://localhost:27017/\")\n",
    "dblp = mongoclient[\"testdb\"]\n",
    "articles_collection = dblp[\"articles\"]\n",
    "proceeding_collection = dblp[\"proceedings\"]\n",
    "inproceeding_collection = dblp[\"inproceedings\"]"
   ]
  },
  {
   "cell_type": "markdown",
   "metadata": {},
   "source": [
    "#### E1: Who is the publisher of the PODS conference proceedings?"
   ]
  },
  {
   "cell_type": "code",
   "execution_count": 3,
   "metadata": {},
   "outputs": [
    {
     "name": "stdout",
     "output_type": "stream",
     "text": [
      "{'_id': ObjectId('638d07005bdfe572e95bd5b5'), 'publisher': 'ACM'}\n"
     ]
    }
   ],
   "source": [
    "#Query E1\n",
    "doc = proceeding_collection.find({\"booktitle\": \"PODS\"}, {\"publisher\" : 1})\n",
    "\n",
    "print(doc[0])"
   ]
  },
  {
   "cell_type": "markdown",
   "metadata": {},
   "source": [
    "#### E2: What are the titles of the articles that Martin Grohe wrote in the Theory of Computing Systems journal? (Sort in alphabetic order)\n"
   ]
  },
  {
   "cell_type": "code",
   "execution_count": 11,
   "metadata": {},
   "outputs": [
    {
     "name": "stdout",
     "output_type": "stream",
     "text": [
      "Database Query Processing Using Finite Cursor Machines.\n",
      "Learnability and Definability in Trees and Similar Structures.\n",
      "Machine-based methods in parameterized complexity theory.\n",
      "The complexity of partition functions.\n",
      "Tight Lower and Upper Bounds for the Complexity of Canonical Colour Refinement.\n",
      "Tight lower bounds for query processing on streaming and external memory data.\n"
     ]
    }
   ],
   "source": [
    "docs = articles_collection.find({\"author\" : \"Martin Grohe\", \"journal\": {\"$regex\" : \"^Theor\"}}, {\"title\" : 1}).sort(\"title\")\n",
    "for doc in docs:\n",
    "    print(doc.get('title'))\n"
   ]
  }
 ],
 "metadata": {
  "kernelspec": {
   "display_name": "Python 3.8.13 ('base')",
   "language": "python",
   "name": "python3"
  },
  "language_info": {
   "codemirror_mode": {
    "name": "ipython",
    "version": 3
   },
   "file_extension": ".py",
   "mimetype": "text/x-python",
   "name": "python",
   "nbconvert_exporter": "python",
   "pygments_lexer": "ipython3",
   "version": "3.8.13"
  },
  "orig_nbformat": 4,
  "vscode": {
   "interpreter": {
    "hash": "6e9f2c9ff3167658364bd03b17d50958e2a6833a601f9b4cf27fe893b934345d"
   }
  }
 },
 "nbformat": 4,
 "nbformat_minor": 2
}
