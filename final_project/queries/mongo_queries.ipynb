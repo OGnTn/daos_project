{
 "cells": [
  {
   "cell_type": "markdown",
   "metadata": {},
   "source": [
    "# Mongo Queries"
   ]
  },
  {
   "cell_type": "code",
   "execution_count": 1,
   "metadata": {},
   "outputs": [],
   "source": [
    "import pymongo\n",
    "import numpy\n",
    "\n",
    "#Mongo setup code. Our database is called testdb and our content is in three collections.\n",
    "mongoclient = pymongo.MongoClient(\"mongodb://localhost:27017/\")\n",
    "dblp = mongoclient[\"testdb\"]\n",
    "articles_collection = dblp[\"articles\"]\n",
    "proceeding_collection = dblp[\"proceedings\"]\n",
    "inproceeding_collection = dblp[\"inproceedings\"]"
   ]
  },
  {
   "cell_type": "code",
   "execution_count": 2,
   "metadata": {},
   "outputs": [],
   "source": [
    "#Query wrapper class for the benchmarking code. The 'col' parameter is the collection on which to aggregate.\n",
    "class Query:\n",
    "    def __init__(self, q, col):\n",
    "        self.q = q\n",
    "        self.col = col\n",
    "    def run_query(self):\n",
    "        return self.col.aggregate(self.q)"
   ]
  },
  {
   "cell_type": "markdown",
   "metadata": {},
   "source": [
    "#### E1: Who is the publisher of the PODS conference proceedings?"
   ]
  },
  {
   "cell_type": "code",
   "execution_count": 4,
   "metadata": {},
   "outputs": [
    {
     "name": "stdout",
     "output_type": "stream",
     "text": [
      "{'publisher': 'ACM'}\n"
     ]
    }
   ],
   "source": [
    "e1 = Query([\n",
    "    {\n",
    "        #Match only the documents that have 'PODS' as their booktitle field.\n",
    "        \"$match\": {\n",
    "            \"booktitle\": \"PODS\"\n",
    "        }\n",
    "    },\n",
    "    {\n",
    "        #Limit the result to only one.\n",
    "        \"$limit\": 1\n",
    "    },\n",
    "    {\n",
    "        #Only keep the publisher field.\n",
    "        \"$project\": {\n",
    "            \"_id\": 0,\n",
    "            \"publisher\": \"$publisher\"\n",
    "        }\n",
    "    }\n",
    "], proceeding_collection)\n",
    "\n",
    "for doc in e1.run_query():\n",
    "    print(doc)"
   ]
  },
  {
   "cell_type": "markdown",
   "metadata": {},
   "source": [
    "#### E2: What are the titles of the articles that Martin Grohe wrote in the Theory of Computing Systems journal? (Sort in alphabetic order)\n"
   ]
  },
  {
   "cell_type": "code",
   "execution_count": 11,
   "metadata": {},
   "outputs": [
    {
     "name": "stdout",
     "output_type": "stream",
     "text": [
      "{'title': 'Database Query Processing Using Finite Cursor Machines.'}\n",
      "{'title': 'Learnability and Definability in Trees and Similar Structures.'}\n",
      "{'title': 'Tight Lower and Upper Bounds for the Complexity of Canonical Colour Refinement.'}\n"
     ]
    }
   ],
   "source": [
    "e2 = Query([\n",
    "    {\n",
    "        #Match on only the documents where 'Martin Grohe' is an author.\n",
    "        \"$match\": {\n",
    "            \"author\": \"Martin Grohe\"\n",
    "        }\n",
    "    },\n",
    "    {\n",
    "        #Match the results to only documents where the journal is 'Theory Comput. Syst.'.\n",
    "        \"$match\": {\n",
    "            \"journal\": \"Theory Comput. Syst.\"\n",
    "        }\n",
    "    },\n",
    "    {\n",
    "        #Only keep the titles.\n",
    "        \"$project\": {\n",
    "            \"_id\": 0,\n",
    "            \"title\": \"$title\"\n",
    "        }\n",
    "    },\n",
    "    {\n",
    "        #Sort the titles alphabetically.\n",
    "        \"$sort\": {\n",
    "            \"title\": 1\n",
    "        }\n",
    "    }\n",
    "], articles_collection)\n",
    "\n",
    "for doc in e2.run_query():\n",
    "    print(doc)\n"
   ]
  },
  {
   "cell_type": "markdown",
   "metadata": {},
   "source": [
    "#### M1: How many articles were published in the SIGMOD conference proceedings this year?"
   ]
  },
  {
   "cell_type": "code",
   "execution_count": 6,
   "metadata": {},
   "outputs": [
    {
     "name": "stdout",
     "output_type": "stream",
     "text": [
      "{'article_count': 282}\n"
     ]
    }
   ],
   "source": [
    "m1 = Query([\n",
    "    {\n",
    "        #Match on documents where the booktitle field contains the string 'SIGMOD'. \n",
    "        #The regexmatch is case-insensitive.\n",
    "        \"$match\": \n",
    "        {\n",
    "            \"$expr\": \n",
    "            {\n",
    "                \"$regexMatch\": {\n",
    "                    \"input\": \"$booktitle\",\n",
    "                    \"regex\": \"SIGMOD\"\n",
    "                }\n",
    "            }\n",
    "        }\n",
    "    },\n",
    "    {\n",
    "        #Match the results when the year is '2022'\n",
    "        \"$match\": {\n",
    "            \"year\": \"2022\"\n",
    "        }\n",
    "    },\n",
    "    {\n",
    "        #Count the amount of results and name this count 'article_count'.\n",
    "        \"$count\": \"article_count\"\n",
    "    }\n",
    "], inproceeding_collection)\n",
    "\n",
    "for doc in m1.run_query():\n",
    "    print(doc)\n"
   ]
  },
  {
   "cell_type": "markdown",
   "metadata": {},
   "source": [
    "#### M2: How many articles were published in the oldest journal, and what is its title?"
   ]
  },
  {
   "cell_type": "code",
   "execution_count": 10,
   "metadata": {},
   "outputs": [
    {
     "name": "stdout",
     "output_type": "stream",
     "text": [
      "{'count': 4864, 'year': '1936', 'journal': 'J. Symb. Log.'}\n"
     ]
    }
   ],
   "source": [
    "m2 = Query([\n",
    "    {\n",
    "        #Set the year value of each document that has it as 'NaN' to the MAX value, so that when sorted in descending order it will be found last, which makes them not be considered.\n",
    "        \"$set\":\n",
    "        {\n",
    "            \"year\":\n",
    "            {\n",
    "                \"$cond\": [{\"$eq\": ['$year', numpy.NaN]}, \"MAXVAL\", '$year']\n",
    "            }\n",
    "        }\n",
    "    },\n",
    "    {\n",
    "        #Group the documents by journal, count the amount of documents per group and set the year value per group to the year value of the oldest arcticle in that group.\n",
    "        \"$group\": \n",
    "        {\n",
    "            \"_id\": \"$journal\",\n",
    "            \"count\": {\"$sum\": 1},\n",
    "            \"year\": {\"$min\": \"$year\"}\n",
    "        }\n",
    "    },\n",
    "    {\n",
    "        #Sort the results in ascending order.\n",
    "        \"$sort\": {\"year\": 1}\n",
    "    },\n",
    "    {\n",
    "        #take the oldest journal.\n",
    "        \"$limit\": 1\n",
    "    },\n",
    "    {\n",
    "        #Rename it to say 'journal'.\n",
    "        \"$project\": {\n",
    "            \"_id\": 0,\n",
    "            \"journal\": \"$_id\",\n",
    "            \"count\": 1,\n",
    "            \"year\": 1\n",
    "        }\n",
    "    }\n",
    "    \n",
    "], articles_collection)\n",
    "\n",
    "\n",
    "for doc in m2.run_query():\n",
    "    print(doc)\n",
    "\n",
    "\n"
   ]
  },
  {
   "cell_type": "markdown",
   "metadata": {},
   "source": [
    "#### M3: What was the median amount of articles published for each year of the CIDR conference?"
   ]
  },
  {
   "cell_type": "code",
   "execution_count": 14,
   "metadata": {},
   "outputs": [
    {
     "name": "stdout",
     "output_type": "stream",
     "text": [
      "{'median': 47}\n"
     ]
    }
   ],
   "source": [
    "m3 = Query([\n",
    "    {\n",
    "        #Match the booktitles to the 'CIDR' conference.\n",
    "        \"$match\": {\n",
    "            \"booktitle\": \"CIDR\"\n",
    "        }\n",
    "    },\n",
    "    {\n",
    "        #Group the documents by year and count them per year.\n",
    "        \"$group\": {\n",
    "            \"_id\": \"$year\",\n",
    "            \"articles_year\": { \"$sum\": 1 }\n",
    "        }\n",
    "    },\n",
    "    {\n",
    "        #Sort them in ascending counts.\n",
    "        \"$sort\": {\n",
    "            \"articles_year\": 1\n",
    "        }\n",
    "    },\n",
    "    {\n",
    "        #Group them by booktitle and add the counts per year to an array.\n",
    "        \"$group\": \n",
    "        {\n",
    "            \"_id\": \"$booktitle\", \n",
    "            \"count_array\": \n",
    "            {\n",
    "                \"$push\": \"$articles_year\" \n",
    "            }\n",
    "        }\n",
    "    },\n",
    "    {\n",
    "        #Take the array size as a variable.\n",
    "        \"$project\": {\n",
    "        \"_id\": 1,\n",
    "        \"count_array\": 1,\n",
    "        \"size\": { \"$size\": [ \"$count_array\" ] }\n",
    "        }\n",
    "    },\n",
    "    {\n",
    "        #Calculate the middle in the array of counts.\n",
    "        \"$project\": {\n",
    "            \"_id\": 1,\n",
    "            \"count_array\": 1,\n",
    "            \"mid\": { \"$trunc\": { \"$divide\": [\"$size\", 2] } }\n",
    "            }\n",
    "    },\n",
    "    {\n",
    "        #Take the element in the middle of the array.\n",
    "        \"$project\": {\n",
    "            \"_id\": 0,\n",
    "            \"median\": {\n",
    "                \"$arrayElemAt\": [\"$count_array\", \"$mid\"]\n",
    "            }\n",
    "        }\n",
    "    }\n",
    "], inproceeding_collection)\n",
    "for doc in m3.run_query():\n",
    "    print(doc)"
   ]
  },
  {
   "cell_type": "markdown",
   "metadata": {},
   "source": [
    "#### M4: In which year did the SIGMOD conference have the most papers with over 10 authors?"
   ]
  },
  {
   "cell_type": "code",
   "execution_count": 15,
   "metadata": {},
   "outputs": [
    {
     "name": "stdout",
     "output_type": "stream",
     "text": [
      "{'_id': '2020', 'count': 13}\n"
     ]
    }
   ],
   "source": [
    "m4 = Query([\n",
    "    {\n",
    "        #Match on any documents where the booktitle field contains the 'SIGMOD' string.\n",
    "        \"$match\": {\n",
    "            \"$expr\": \n",
    "            {\n",
    "                \"$regexMatch\": {\n",
    "                    \"input\": \"$booktitle\",\n",
    "                    \"regex\": \"SIGMOD\"\n",
    "                }\n",
    "            }\n",
    "        }\n",
    "    },\n",
    "    {\n",
    "        #Check if the author array has more than 10 elements by seeing of the element with index 10 exists.\n",
    "        \"$match\": {\n",
    "            \"author.10\": {\"$exists\": \"true\"}\n",
    "        }\n",
    "    },\n",
    "    {\n",
    "        #Group the documents by year.\n",
    "        \"$group\": {\n",
    "            \"_id\": \"$year\",\n",
    "            \"count\": { \"$sum\": 1 }\n",
    "        }\n",
    "    },\n",
    "    {\n",
    "        #Sort the counts in descending order.\n",
    "        \"$sort\": {\n",
    "            \"count\": -1\n",
    "        }\n",
    "    },\n",
    "    {\n",
    "        #take year with the highest count.\n",
    "        \"$limit\": 1\n",
    "    }\n",
    "], inproceeding_collection)\n",
    "\n",
    "for doc in m4.run_query():\n",
    "    print(doc)"
   ]
  },
  {
   "cell_type": "markdown",
   "metadata": {},
   "source": [
    "#### M5: Who were the most frequent editors for the PODS conference? How many times were they an editor?"
   ]
  },
  {
   "cell_type": "code",
   "execution_count": 17,
   "metadata": {},
   "outputs": [
    {
     "name": "stdout",
     "output_type": "stream",
     "text": [
      "{'names': ['Maurizio Lenzerini', 'Leonid Libkin', 'Josep Lluís Larriba-Pey'], 'amount': 3}\n"
     ]
    }
   ],
   "source": [
    "m5 = Query([\n",
    "    {\n",
    "        #Remove the documents with no booktitle.\n",
    "      \"$match\": \n",
    "      {\n",
    "          \"booktitle\": { \"$ne\": numpy.NaN }\n",
    "      }\n",
    "    },\n",
    "    {\n",
    "        #Match the results to documents containing 'PODS' in the booktitle.\n",
    "        \"$match\": {\n",
    "            \"$expr\": \n",
    "            {\n",
    "                \"$regexMatch\": {\n",
    "                    \"input\": \"$booktitle\",\n",
    "                    \"regex\": \"PODS\",\n",
    "                    \"options\": \"i\"\n",
    "                }\n",
    "            }\n",
    "        }\n",
    "    },\n",
    "    {\n",
    "        #Unwind the editor array - Any document with an array in the editor field will be unwinded so that for every value in the editor array a document exists.\n",
    "        #Example: [name: \"John Doe\", editor: [1,2,3]] becomes [name \"John Doe\", editor: 1], [name \"John Doe\", editor: 2], [name \"John Doe\", editor: 3]\n",
    "        \"$unwind\": \"$editor\"\n",
    "    },\n",
    "    {\n",
    "        #Group the documents by editor. and count how many documents exists for each editor.\n",
    "        \"$group\": {\n",
    "            \"_id\": \"$editor\",\n",
    "            \"count\": { \"$sum\": 1 },\n",
    "        }\n",
    "    },\n",
    "    {\n",
    "        #Group the documents by count. and push their name into an array.\n",
    "        \"$group\": {\n",
    "            \"_id\": \"$count\",\n",
    "            \"names\": {\n",
    "                \"$push\": \"$_id\"\n",
    "            }\n",
    "        }\n",
    "    },\n",
    "    {\n",
    "        #Sort the counts in descending order.\n",
    "        \"$sort\": {\n",
    "            \"_id\": -1\n",
    "        }\n",
    "    },\n",
    "    {\n",
    "        #Take the document of the highest count. Here, the 'names' array contains all editors who have been the most frequent editors.\n",
    "        \"$limit\": 1\n",
    "    },\n",
    "    {\n",
    "        #Keep the names and rename the _id field to amount.\n",
    "        \"$project\": {\n",
    "            \"names\": 1,\n",
    "            \"amount\": \"$_id\",\n",
    "            \"_id\": 0\n",
    "        }\n",
    "    }\n",
    "    \n",
    "], proceeding_collection)\n",
    "for doc in m5.run_query():\n",
    "    print(doc)"
   ]
  },
  {
   "cell_type": "code",
   "execution_count": 4,
   "metadata": {},
   "outputs": [
    {
     "name": "stdout",
     "output_type": "stream",
     "text": [
      "{'distinct_booktitles': 173}\n"
     ]
    }
   ],
   "source": [
    "m6 = Query([\n",
    "  {\n",
    "    #Unwind the editor field. See m5 for explanation.\n",
    "    \"$unwind\": \"$editor\"\n",
    "  },\n",
    "  {\n",
    "    #Remove the documents that have no editor.\n",
    "      \"$match\": \n",
    "      {\n",
    "          \"editor\": { \"$ne\": numpy.NaN }\n",
    "      }\n",
    "  },\n",
    "  {\n",
    "    #Group the documents by editor and push all the conferences they've written for into an array. \n",
    "    \"$group\": {\n",
    "      \"_id\": \"$editor\",\n",
    "      \"booktitles\": {\n",
    "        \"$push\": \"$booktitle\"\n",
    "      }\n",
    "    }\n",
    "  },\n",
    "  {\n",
    "    #Peform a lookup from the inproceedings collection where the editors are used as local field and the foreign field is are the authors.\n",
    "    \"$lookup\": {\n",
    "      \"from\": \"inproceedings\",\n",
    "      \"localField\": \"_id\",\n",
    "      \"foreignField\": \"author\",\n",
    "      \"as\": \"inproceedings\"\n",
    "    }\n",
    "  },\n",
    "  {\n",
    "    #unwind the found documents.\n",
    "    \"$unwind\": \"$inproceedings\"\n",
    "  },\n",
    "  {\n",
    "    #Push the booktitles of the documents that were looked up into the booktitle array.\n",
    "    \"$group\": {\n",
    "      \"_id\": \"$_id\",\n",
    "      \"booktitles\": {\n",
    "        \"$push\": \"$inproceedings.booktitle\"\n",
    "      }\n",
    "    }\n",
    "  },\n",
    "  {\n",
    "    #count the amount of publications for both collections by checking the size of the booktitle array.\n",
    "    \"$project\": {\n",
    "        \"_id\": 1,\n",
    "        \"booktitles\": 1,\n",
    "        \"publication_count\": \n",
    "        {\n",
    "        \"$size\": \"$booktitles\"\n",
    "        }\n",
    "      }\n",
    "  },\n",
    "  {\n",
    "    #sort the counts in descending order.\n",
    "    \"$sort\": {\n",
    "      \"publication_count\": -1\n",
    "    }\n",
    "  },\n",
    "  {\n",
    "    #Limit to only the academic with the highest publication count.\n",
    "    \"$limit\": 1\n",
    "  },\n",
    "  {\n",
    "    #Unwind the booktitle array.\n",
    "    \"$unwind\": \"$booktitles\"\n",
    "  },\n",
    "  {\n",
    "    #Group the documents by booktitle.\n",
    "    \"$group\": {\n",
    "      \"_id\": \"$booktitles\",\n",
    "      \"count\": {\"$sum\": 1}\n",
    "    }\n",
    "  },\n",
    "  {\n",
    "    #count how many different groups there are.\n",
    "    \"$count\": \"distinct_booktitles\"\n",
    "  }\n",
    "\n",
    "  ], proceeding_collection)\n",
    "for doc in m6.run_query():\n",
    "    print(doc)"
   ]
  },
  {
   "attachments": {},
   "cell_type": "markdown",
   "metadata": {},
   "source": [
    "#### H1: For each researcher that published to the ICDT conference in 2020: Who was their most frequently occurring co-author (conference & journal)? How many times did they collaborate?"
   ]
  },
  {
   "cell_type": "code",
   "execution_count": 6,
   "metadata": {},
   "outputs": [
    {
     "name": "stdout",
     "output_type": "stream",
     "text": [
      "{'_id': 'Evgenij Thorstensen', 'authors': ['Evgenij Thorstensen']}\n",
      "{'_id': 'Gonzalo Navarro', 'authors': ['Gonzalo Navarro']}\n",
      "{'_id': 'Peter Lindner 0001', 'authors': ['Peter Lindner 0001']}\n",
      "{'_id': 'Henrik Forssell', 'authors': ['Henrik Forssell']}\n",
      "{'_id': 'Diego Figueira', 'authors': ['Diego Figueira']}\n",
      "{'_id': 'Jan Van den Bussche', 'authors': ['Jan Van den Bussche']}\n",
      "{'_id': nan, 'authors': [nan]}\n",
      "{'_id': 'Mohammad Sadoghi', 'authors': ['Mohammad Sadoghi']}\n",
      "{'_id': 'Leopoldo E. Bertossi', 'authors': ['Leopoldo E. Bertossi']}\n",
      "{'_id': 'Dimitri Surinx', 'authors': ['Dimitri Surinx']}\n",
      "{'_id': 'Bas Ketsman', 'authors': ['Bas Ketsman']}\n",
      "{'_id': 'Dan Suciu', 'authors': ['Dan Suciu']}\n",
      "{'_id': 'Heba Aamer', 'authors': ['Heba Aamer']}\n",
      "{'_id': 'Johannes Doleschal', 'authors': ['Johannes Doleschal']}\n",
      "{'_id': 'Juan L. Reutter', 'authors': ['Juan L. Reutter']}\n",
      "{'_id': 'Yu Chen', 'authors': ['Yu Chen']}\n",
      "{'_id': 'Ke Yi 0001', 'authors': ['Ke Yi 0001']}\n",
      "{'_id': 'Alejandro Grez', 'authors': ['Alejandro Grez']}\n",
      "{'_id': 'Batya Kenig', 'authors': ['Batya Kenig']}\n",
      "{'_id': 'Rasmus Pagh', 'authors': ['Rasmus Pagh']}\n",
      "{'_id': 'Nelson Higuera', 'authors': ['Nelson Higuera']}\n",
      "{'_id': 'Christoph Koch 0001', 'authors': ['Christoph Koch 0001']}\n",
      "{'_id': 'Sam M. Thompson', 'authors': ['Sam M. Thompson']}\n",
      "{'_id': 'Yufei Tao 0001', 'authors': ['Yufei Tao 0001']}\n",
      "{'_id': 'Jelle Hellings', 'authors': ['Jelle Hellings']}\n",
      "{'_id': 'Bernardo Subercaseaux', 'authors': ['Bernardo Subercaseaux']}\n",
      "{'_id': 'Frank Neven', 'authors': ['Frank Neven']}\n",
      "{'_id': 'Jorge Salas', 'authors': ['Jorge Salas']}\n",
      "{'_id': 'Moshe Sebag', 'authors': ['Moshe Sebag']}\n",
      "{'_id': 'Alex Thomo', 'authors': ['Alex Thomo']}\n",
      "{'_id': 'Stijn Vansummeren', 'authors': ['Stijn Vansummeren']}\n",
      "{'_id': 'Cristian Riveros', 'authors': ['Cristian Riveros']}\n",
      "{'_id': 'Benny Kimelfeld', 'authors': ['Benny Kimelfeld']}\n",
      "{'_id': 'Pablo Barceló', 'authors': ['Pablo Barceló']}\n",
      "{'_id': 'Martín Ugarte', 'authors': ['Martín Ugarte']}\n",
      "{'_id': 'Johan Sivertsen', 'authors': ['Johan Sivertsen']}\n",
      "{'_id': 'Javiel Rojas-Ledesma', 'authors': ['Javiel Rojas-Ledesma']}\n",
      "{'_id': 'Bart Bogaerts 0001', 'authors': ['Bart Bogaerts 0001']}\n",
      "{'_id': 'Martin Grohe', 'authors': ['Martin Grohe']}\n",
      "{'_id': 'Eugenia Ternovska', 'authors': ['Eugenia Ternovska']}\n",
      "{'_id': 'Ester Livshits', 'authors': ['Ester Livshits']}\n",
      "{'_id': 'Michael Simpson', 'authors': ['Michael Simpson']}\n",
      "{'_id': 'Dominik D. Freydenberger', 'authors': ['Dominik D. Freydenberger']}\n",
      "{'_id': 'Wim Martens', 'authors': ['Wim Martens']}\n",
      "{'_id': 'Evgeny Kharlamov', 'authors': ['Evgeny Kharlamov']}\n",
      "{'_id': 'Thomas Schwentick', 'authors': ['Thomas Schwentick']}\n",
      "{'_id': 'Jorge Pérez 0001', 'authors': ['Jorge Pérez 0001']}\n",
      "{'_id': 'Ismail Ilkan Ceylan', 'authors': ['Ismail Ilkan Ceylan']}\n",
      "{'_id': 'Gaetano Geck', 'authors': ['Gaetano Geck']}\n",
      "{'_id': 'Venkatesh Srinivasan 0001', 'authors': ['Venkatesh Srinivasan 0001']}\n",
      "{'_id': 'Floris Geerts', 'authors': ['Floris Geerts']}\n",
      "{'_id': 'Jerzy Marcinkowski', 'authors': ['Jerzy Marcinkowski']}\n",
      "{'_id': 'Liat Peterfreund', 'authors': ['Liat Peterfreund']}\n",
      "{'_id': 'Antoine Amarilli', 'authors': ['Antoine Amarilli']}\n"
     ]
    }
   ],
   "source": [
    "H1 = inproceeding_collection.aggregate([\n",
    "  {\n",
    "    \"$match\": {\n",
    "      \"booktitle\": \"ICDT\"\n",
    "    }\n",
    "  },\n",
    "  {\n",
    "    \"$match\": {\n",
    "      \"year\": \"2020\"\n",
    "    }\n",
    "  },\n",
    "  { \"$unwind\": \"$author\" },\n",
    "  {\n",
    "    \"$group\": {\n",
    "      \"_id\": \"$author\",\n",
    "      \"authors\": { \"$addToSet\": \"$author\" }\n",
    "    }\n",
    "  },\n",
    "])\n",
    "\n",
    "for doc in H1:\n",
    "    print(doc)"
   ]
  }
 ],
 "metadata": {
  "kernelspec": {
   "display_name": "Python 3.8.13 ('base')",
   "language": "python",
   "name": "python3"
  },
  "language_info": {
   "codemirror_mode": {
    "name": "ipython",
    "version": 3
   },
   "file_extension": ".py",
   "mimetype": "text/x-python",
   "name": "python",
   "nbconvert_exporter": "python",
   "pygments_lexer": "ipython3",
   "version": "3.8.13"
  },
  "orig_nbformat": 4,
  "vscode": {
   "interpreter": {
    "hash": "6e9f2c9ff3167658364bd03b17d50958e2a6833a601f9b4cf27fe893b934345d"
   }
  }
 },
 "nbformat": 4,
 "nbformat_minor": 2
}
