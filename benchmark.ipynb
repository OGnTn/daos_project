{
 "cells": [
  {
   "cell_type": "code",
   "execution_count": 1,
   "metadata": {},
   "outputs": [],
   "source": [
    "#bechmark for the querry\n",
    "import duckdb\n",
    "import time\n",
    "\n",
    "\n",
    "def run(querry,benchmark_duckdb=True):\n",
    "\n",
    "    if benchmark_duckdb:\n",
    "        duckdb.query(querry)\n",
    "    else:\n",
    "        # to be implemented by nathan (for the mongoDB))\n",
    "        pass\n",
    "\n",
    "def benchmark_round(querry):\n",
    "    startTime = time.time()\n",
    "    run(querry)\n",
    "    endTime = time.time()\n",
    "    return endTime - startTime\n",
    "\n",
    "def benchmark(querry, rounds):\n",
    "    times = []\n",
    "    for i in range(rounds):\n",
    "        times.append(benchmark_round(querry))\n",
    "    return times\n",
    "\n",
    "# returns the average time of the benchmark for the given querry\n",
    "def average(times):\n",
    "    return sum(times) / len(times)\n",
    "\n",
    "#returns the max time of the benchmark for the given querry\n",
    "def max(times):\n",
    "    return max(times)\n",
    "\n",
    "#returns the min time of the benchmark for the given querry\n",
    "def min(times):\n",
    "    return min(times)\n",
    "\n",
    "#returns the standard deviation of the benchmark for the given querry\n",
    "def standard_deviation(times):\n",
    "    avg = average(times)\n",
    "    variance = sum([(x - avg) ** 2 for x in times]) / len(times)\n",
    "    return variance ** 0.5\n",
    "\n",
    "def plot_benchmark(times):\n",
    "    import matplotlib.pyplot as plt\n",
    "    plt.plot(times)\n",
    "    plt.ylabel('time')\n",
    "    plt.xlabel('rounds')\n",
    "    plt.show()\n",
    "\n",
    "#returns the benchmark for the given querry\n",
    "def benchmark_and_plot(querry, rounds):\n",
    "    times = benchmark(querry, rounds)\n",
    "    plot_benchmark(times)\n",
    "    return times\n",
    "\n",
    "# create a summury of the benchmark\n",
    "def benchmark_summary_per_querry(times):\n",
    "    return {\"average\": average(times), \"max\": max(times), \"min\": min(times), \"standard_deviation\": standard_deviation(times)}\n"
   ]
  },
  {
   "cell_type": "code",
   "execution_count": 2,
   "metadata": {},
   "outputs": [],
   "source": [
    "#create a pandas dataframe with the benchmark results\n",
    "def benchmark_summary(querrys, rounds):\n",
    "    import pandas as pd\n",
    "    result = {}\n",
    "    for querry in querrys:\n",
    "        times = benchmark(querry, rounds)\n",
    "        result[querry] = benchmark_summary_per_querry(times)\n",
    "    return pd.DataFrame(result)"
   ]
  },
  {
   "cell_type": "code",
   "execution_count": null,
   "metadata": {},
   "outputs": [],
   "source": []
  }
 ],
 "metadata": {
  "kernelspec": {
   "display_name": "Python 3",
   "language": "python",
   "name": "python3"
  },
  "language_info": {
   "codemirror_mode": {
    "name": "ipython",
    "version": 3
   },
   "file_extension": ".py",
   "mimetype": "text/x-python",
   "name": "python",
   "nbconvert_exporter": "python",
   "pygments_lexer": "ipython3",
   "version": "3.10.8"
  },
  "orig_nbformat": 4,
  "vscode": {
   "interpreter": {
    "hash": "27f6fea6f47ae512550f0b8facdbd035a93e1dd89633f7bf2dd00a2502c71d0d"
   }
  }
 },
 "nbformat": 4,
 "nbformat_minor": 2
}
