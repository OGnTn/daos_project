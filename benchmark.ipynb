{
 "cells": [
  {
   "cell_type": "code",
   "execution_count": 1,
   "metadata": {},
   "outputs": [],
   "source": [
    "#bechmark for the querry\n",
    "import duckdb\n",
    "from mongo_deps import *\n",
    "import time\n",
    "\n",
    "\n",
    "def run(querry,benchmark_duckdb=True):\n",
    "\n",
    "    if benchmark_duckdb:\n",
    "        duckdb.query(querry)\n",
    "    else:\n",
    "        querry.run_query()\n",
    "\n",
    "def benchmark_round(querry):\n",
    "    startTime = time.time()\n",
    "    run(querry)\n",
    "    endTime = time.time()\n",
    "    return endTime - startTime\n",
    "\n",
    "def benchmark(querry, rounds):\n",
    "    times = []\n",
    "    for i in range(rounds):\n",
    "        times.append(benchmark_round(querry))\n",
    "    return times\n",
    "\n",
    "# returns the average time of the benchmark for the given querry\n",
    "def average(times):\n",
    "    return sum(times) / len(times)\n",
    "\n",
    "#returns the max time of the benchmark for the given querry\n",
    "def max(times):\n",
    "    return max(times)\n",
    "\n",
    "#returns the min time of the benchmark for the given querry\n",
    "def min(times):\n",
    "    return min(times)\n",
    "\n",
    "#returns the standard deviation of the benchmark for the given querry\n",
    "def standard_deviation(times):\n",
    "    avg = average(times)\n",
    "    variance = sum([(x - avg) ** 2 for x in times]) / len(times)\n",
    "    return variance ** 0.5\n",
    "\n",
    "def plot_benchmark(times):\n",
    "    import matplotlib.pyplot as plt\n",
    "    plt.plot(times)\n",
    "    plt.ylabel('time')\n",
    "    plt.xlabel('rounds')\n",
    "    plt.show()\n",
    "\n",
    "#returns the benchmark for the given querry\n",
    "def benchmark_and_plot(querry, rounds):\n",
    "    times = benchmark(querry, rounds)\n",
    "    plot_benchmark(times)\n",
    "    return times\n",
    "\n",
    "# create a summury of the benchmark\n",
    "def benchmark_summary_per_querry(times):\n",
    "    return {\"average\": average(times), \"max\": max(times), \"min\": min(times), \"standard_deviation\": standard_deviation(times)}\n"
   ]
  },
  {
   "cell_type": "code",
   "execution_count": 2,
   "metadata": {},
   "outputs": [],
   "source": [
    "#create a pandas dataframe with the benchmark results\n",
    "def benchmark_summary(querrys, rounds):\n",
    "    import pandas as pd\n",
    "    result = {}\n",
    "    for querry in querrys:\n",
    "        times = benchmark(querry, rounds)\n",
    "        result[querry] = benchmark_summary_per_querry(times)\n",
    "    return pd.DataFrame(result)"
   ]
  },
  {
   "cell_type": "code",
   "execution_count": null,
   "metadata": {},
   "outputs": [],
   "source": []
  }
 ],
 "metadata": {
  "kernelspec": {
   "display_name": "base",
   "language": "python",
   "name": "python3"
  },
  "language_info": {
   "codemirror_mode": {
    "name": "ipython",
    "version": 3
   },
   "file_extension": ".py",
   "mimetype": "text/x-python",
   "name": "python",
   "nbconvert_exporter": "python",
   "pygments_lexer": "ipython3",
   "version": "3.8.13 (default, Mar 28 2022, 06:59:08) [MSC v.1916 64 bit (AMD64)]"
  },
  "orig_nbformat": 4,
  "vscode": {
   "interpreter": {
    "hash": "6e9f2c9ff3167658364bd03b17d50958e2a6833a601f9b4cf27fe893b934345d"
   }
  }
 },
 "nbformat": 4,
 "nbformat_minor": 2
}
